{
 "cells": [
  {
   "cell_type": "markdown",
   "metadata": {},
   "source": [
    "# Run on Google Colab\n",
    "\n",
    "https://colab.research.google.com/github/Kapil3003farmonaut/Api/blob/main/api_endpoints.ipynb\n"
   ]
  },
  {
   "cell_type": "markdown",
   "metadata": {},
   "source": [
    "# Start\n"
   ]
  },
  {
   "cell_type": "code",
   "execution_count": 1,
   "metadata": {},
   "outputs": [],
   "source": [
    "import requests\n",
    "import pandas as pd\n",
    "\n",
    "UID = \"APIKEY\"  # Use your correct API key for testing"
   ]
  },
  {
   "cell_type": "markdown",
   "metadata": {},
   "source": [
    "# Check Usage Details\n"
   ]
  },
  {
   "cell_type": "code",
   "execution_count": 2,
   "metadata": {},
   "outputs": [
    {
     "name": "stdout",
     "output_type": "stream",
     "text": [
      "Status code:  200\n",
      "JSON data received.\n",
      "{'OrderedUnits': 1000000, 'UsedUnits': 227, 'remainingUnits': 999773}\n"
     ]
    }
   ],
   "source": [
    "def get_my_usage(UID):\n",
    "\n",
    "    endpointUrl = \"https://us-central1-farmbase-b2f7e.cloudfunctions.net/getMyUsage\"\n",
    "    bodyObj = {\n",
    "        \"UID\": UID,\n",
    "    }\n",
    "\n",
    "    response = requests.post(endpointUrl, json=bodyObj)\n",
    "\n",
    "    print(\"Status code: \", response.status_code)\n",
    "\n",
    "    return response\n",
    "\n",
    "\n",
    "response = get_my_usage(UID)\n",
    "\n",
    "json_data = {}\n",
    "try:\n",
    "    json_data = response.json()\n",
    "    if len(json_data) > 0:\n",
    "        print(\"JSON data received.\")\n",
    "        print(json_data)\n",
    "        # Further processing of the JSON data can be done here\n",
    "    else:\n",
    "        print(\"No JSON data received.\")\n",
    "except ValueError:\n",
    "    print(\"Invalid JSON data received or no JSON data present.\")"
   ]
  },
  {
   "cell_type": "markdown",
   "metadata": {},
   "source": [
    "## Add/Submit field\n"
   ]
  },
  {
   "cell_type": "code",
   "execution_count": 3,
   "metadata": {},
   "outputs": [
    {
     "name": "stdout",
     "output_type": "stream",
     "text": [
      "Status code:  200\n",
      "JSON data received.\n",
      "Field ID -  1718698527459\n",
      "{'Coordinates': {'a': {'Latitude': 17.410292565471753, 'Longitude': 78.47214764936771}, 'P_1': {'Latitude': 17.41025161622103, 'Longitude': 78.47341901644077}, 'P_2': {'Latitude': 17.409652732380625, 'Longitude': 78.47430414541569}, 'P_3': {'Latitude': 17.409586189610526, 'Longitude': 78.47315615995731}}, 'CropCode': '1r', 'FieldMaxLat': 17.410292565471753, 'FieldMaxLong': 78.47430414541569, 'FieldMinLat': 17.409586189610526, 'FieldMinLong': 78.47214764936771, 'FieldArea': 9478, 'FieldID': '1718698527459', 'UID': 'CFv7IjeJR8ZKFWSXb95qzgvymCv1', 'OrderDate': '19-06-2024', 'Email': 'not provided', 'GenTif': 'yes', 'FieldAddress': 'My Test Field 24', 'Paid': 'yes', 'PaymentType': 1, 'hUnits': 6}\n"
     ]
    }
   ],
   "source": [
    "def submit_field(UID, CropCode, FieldName, PaymentType, PointCoordinates):\n",
    "    endpointUrl = \"https://us-central1-farmbase-b2f7e.cloudfunctions.net/submitField\"\n",
    "    bodyObj = {\n",
    "        \"UID\": UID,\n",
    "        \"CropCode\": CropCode,\n",
    "        \"FieldName\": FieldName,\n",
    "        \"PaymentType\": PaymentType,\n",
    "        \"Points\": PointCoordinates,\n",
    "    }\n",
    "\n",
    "    response = requests.post(endpointUrl, json=bodyObj)\n",
    "\n",
    "    print(\"Status code: \", response.status_code)\n",
    "\n",
    "    return response\n",
    "\n",
    "\n",
    "CropCode = \"1r\"\n",
    "FieldName = \"My Test Field 24\"\n",
    "PaymentType = 1\n",
    "PointCoordinates = [\n",
    "    [78.47214764936771, 17.410292565471753],\n",
    "    [78.47341901644077, 17.41025161622103],\n",
    "    [78.47430414541569, 17.409652732380625],\n",
    "    [78.47315615995731, 17.409586189610526],\n",
    "]\n",
    "\n",
    "response = submit_field(UID, CropCode, FieldName, PaymentType, PointCoordinates)\n",
    "\n",
    "json_data = {}\n",
    "try:\n",
    "    json_data = response.json()\n",
    "    if len(json_data) > 0:\n",
    "\n",
    "        print(\"JSON data received.\")\n",
    "\n",
    "        print(\"Field ID - \", json_data[\"FieldID\"])\n",
    "        print(json_data)  ##[\"FieldID\"\n",
    "        # Further processing of the JSON data can be done here\n",
    "    else:\n",
    "        print(\"No JSON data received.\")\n",
    "except ValueError:\n",
    "    print(\"Invalid JSON data received or no JSON data present.\")"
   ]
  },
  {
   "cell_type": "markdown",
   "metadata": {},
   "source": [
    "# Get All Fields/Farmers Data\n"
   ]
  },
  {
   "cell_type": "code",
   "execution_count": 4,
   "metadata": {},
   "outputs": [
    {
     "name": "stdout",
     "output_type": "stream",
     "text": [
      "Status code:  200\n",
      "JSON data received.\n"
     ]
    },
    {
     "data": {
      "text/html": [
       "<div>\n",
       "<style scoped>\n",
       "    .dataframe tbody tr th:only-of-type {\n",
       "        vertical-align: middle;\n",
       "    }\n",
       "\n",
       "    .dataframe tbody tr th {\n",
       "        vertical-align: top;\n",
       "    }\n",
       "\n",
       "    .dataframe thead th {\n",
       "        text-align: right;\n",
       "    }\n",
       "</style>\n",
       "<table border=\"1\" class=\"dataframe\">\n",
       "  <thead>\n",
       "    <tr style=\"text-align: right;\">\n",
       "      <th></th>\n",
       "      <th>FieldID</th>\n",
       "      <th>FieldArea</th>\n",
       "      <th>hUnits</th>\n",
       "      <th>FieldMaxLat</th>\n",
       "      <th>FieldMaxLong</th>\n",
       "      <th>FieldMinLat</th>\n",
       "      <th>FieldMinLong</th>\n",
       "      <th>coodfinates</th>\n",
       "    </tr>\n",
       "  </thead>\n",
       "  <tbody>\n",
       "    <tr>\n",
       "      <th>0</th>\n",
       "      <td>1718698527459</td>\n",
       "      <td>9478</td>\n",
       "      <td>6</td>\n",
       "      <td>17.410293</td>\n",
       "      <td>78.474304</td>\n",
       "      <td>17.409586</td>\n",
       "      <td>78.472148</td>\n",
       "      <td>[[17.410292565471753, 78.47214764936771], [17....</td>\n",
       "    </tr>\n",
       "  </tbody>\n",
       "</table>\n",
       "</div>"
      ],
      "text/plain": [
       "         FieldID  FieldArea  hUnits  FieldMaxLat  FieldMaxLong  FieldMinLat  \\\n",
       "0  1718698527459       9478       6    17.410293     78.474304    17.409586   \n",
       "\n",
       "   FieldMinLong                                        coodfinates  \n",
       "0     78.472148  [[17.410292565471753, 78.47214764936771], [17....  "
      ]
     },
     "execution_count": 4,
     "metadata": {},
     "output_type": "execute_result"
    }
   ],
   "source": [
    "def get_all_feilds_data(UID):\n",
    "    endpointUrl = (\n",
    "        \"https://us-central1-farmbase-b2f7e.cloudfunctions.net/getAllFarmersData\"\n",
    "    )\n",
    "    bodyObj = {\n",
    "        \"UID\": UID,\n",
    "    }\n",
    "\n",
    "    response = requests.post(endpointUrl, json=bodyObj)\n",
    "\n",
    "    print(\"Status code: \", response.status_code)\n",
    "\n",
    "    return response\n",
    "\n",
    "\n",
    "all_fields_data = get_all_feilds_data(UID)\n",
    "\n",
    "json_data = {}\n",
    "df_field_data = pd.DataFrame()\n",
    "\n",
    "try:\n",
    "    json_data = all_fields_data.json()\n",
    "\n",
    "    if len(json_data) > 0:\n",
    "\n",
    "        print(\"JSON data received.\")\n",
    "        # Further processing of the JSON data can be done here\n",
    "    else:\n",
    "        print(\"No JSON data received.\")\n",
    "except ValueError:\n",
    "    print(\"Invalid JSON data received or no JSON data present.\")\n",
    "\n",
    "if len(json_data) > 0:\n",
    "    data_all_Field = []\n",
    "    for fieldId, fieldDetails in all_fields_data.json().items():\n",
    "        # print(fieldId)\n",
    "        lat_lon_pairs = []\n",
    "\n",
    "        # Define custom sorting order\n",
    "        def custom_sort(key):\n",
    "            if key == \"a\":\n",
    "                return 0\n",
    "            elif key.startswith(\"P_\"):\n",
    "                return int(key[2:])\n",
    "            else:\n",
    "                return float(\"inf\")  # Place any other keys at the end\n",
    "\n",
    "        # Sort the keys of the Coordinates dictionary using the custom sorting function\n",
    "        sorted_coordinates = sorted(fieldDetails[\"Coordinates\"].keys(), key=custom_sort)\n",
    "\n",
    "        # Iterate over the sorted keys\n",
    "        for point in sorted_coordinates:\n",
    "            coordinates = fieldDetails[\"Coordinates\"][point]\n",
    "            latitude = float(coordinates[\"Latitude\"])\n",
    "            longitude = float(coordinates[\"Longitude\"])\n",
    "            lat_lon_pairs.append([latitude, longitude])\n",
    "\n",
    "        # for point, coordinates in fieldDetails[\"Coordinates\"].items():\n",
    "        #     latitude = float(coordinates[\"Latitude\"])\n",
    "        #     longitude = float(coordinates[\"Longitude\"])\n",
    "        #     lat_lon_pairs.append([latitude, longitude])\n",
    "\n",
    "        data_all_Field.append(\n",
    "            {\n",
    "                \"FieldID\": fieldId,\n",
    "                # \"FieldAddress\": fieldDetails[\"FieldAddress\"],\n",
    "                \"FieldArea\": fieldDetails[\"FieldArea\"],\n",
    "                \"hUnits\": fieldDetails[\"hUnits\"],\n",
    "                \"FieldMaxLat\": fieldDetails[\"FieldMaxLat\"],\n",
    "                \"FieldMaxLong\": fieldDetails[\"FieldMaxLong\"],\n",
    "                \"FieldMinLat\": fieldDetails[\"FieldMinLat\"],\n",
    "                \"FieldMinLong\": fieldDetails[\"FieldMinLong\"],\n",
    "                \"coodfinates\": lat_lon_pairs,\n",
    "            }\n",
    "        )\n",
    "\n",
    "    df_field_data = pd.DataFrame(data_all_Field)\n",
    "\n",
    "df_field_data"
   ]
  },
  {
   "cell_type": "markdown",
   "metadata": {},
   "source": [
    "# Delete Field\n"
   ]
  },
  {
   "cell_type": "code",
   "execution_count": null,
   "metadata": {},
   "outputs": [],
   "source": [
    "from json.decoder import JSONDecodeError\n",
    "\n",
    "\n",
    "def delete_field(UID, FieldID):\n",
    "    endpointUrl = \"https://us-central1-farmbase-b2f7e.cloudfunctions.net/deleteField\"\n",
    "    bodyObj = {\"UID\": UID, \"FieldID\": FieldID}\n",
    "\n",
    "    response = requests.post(endpointUrl, json=bodyObj)\n",
    "\n",
    "    print(\"Status code: \", response.status_code)\n",
    "\n",
    "    return response\n",
    "\n",
    "    # try:\n",
    "    #     json_data = response.json()\n",
    "    #     print(json_data)\n",
    "    # except (AttributeError, JSONDecodeError) as e:\n",
    "    #     print(\"Error occurred:\", e)\n",
    "\n",
    "\n",
    "FieldID = \"1718697978627\"\n",
    "response = delete_field(UID, FieldID)"
   ]
  },
  {
   "cell_type": "markdown",
   "metadata": {},
   "source": [
    "# Get Single Fields Data\n"
   ]
  },
  {
   "cell_type": "code",
   "execution_count": 6,
   "metadata": {},
   "outputs": [
    {
     "name": "stdout",
     "output_type": "stream",
     "text": [
      "Status code:  200\n",
      "JSON data received.\n",
      "{'Coordinates': {'P_1': {'Latitude': 17.41025161622103, 'Longitude': 78.47341901644077}, 'P_2': {'Latitude': 17.409652732380625, 'Longitude': 78.47430414541569}, 'P_3': {'Latitude': 17.409586189610526, 'Longitude': 78.47315615995731}, 'a': {'Latitude': 17.410292565471753, 'Longitude': 78.47214764936771}}, 'CropCode': '1r', 'Email': 'not provided', 'FieldAddress': 'My Test Field 24', 'FieldArea': 9478, 'FieldID': '1718698527459', 'FieldMaxLat': 17.410292565471753, 'FieldMaxLong': 78.47430414541569, 'FieldMinLat': 17.409586189610526, 'FieldMinLong': 78.47214764936771, 'GenTif': 'yes', 'OrderDate': '19-06-2024', 'Paid': 'yes', 'PaymentType': 1, 'UID': 'CFv7IjeJR8ZKFWSXb95qzgvymCv1', 'hUnits': 6}\n"
     ]
    }
   ],
   "source": [
    "def get_single_field_data(UID, FieldID):\n",
    "    endpointUrl = \"https://us-central1-farmbase-b2f7e.cloudfunctions.net/getFarmerData\"\n",
    "    bodyObj = {\"UID\": UID, \"FieldID\": FieldID}\n",
    "\n",
    "    response = requests.post(endpointUrl, json=bodyObj)\n",
    "\n",
    "    print(\"Status code: \", response.status_code)\n",
    "\n",
    "    return response\n",
    "\n",
    "\n",
    "FieldID = \"1718698527459\"\n",
    "response = get_single_field_data(UID, FieldID)\n",
    "\n",
    "json_data = {}\n",
    "try:\n",
    "    json_data = response.json()\n",
    "    if len(json_data) > 0:\n",
    "\n",
    "        print(\"JSON data received.\")\n",
    "        print(json_data)  ##[\"FieldID\"\n",
    "        # Further processing of the JSON data can be done here\n",
    "    else:\n",
    "        print(\"No JSON data received.\")\n",
    "except ValueError:\n",
    "    print(\"Invalid JSON data received or no JSON data present.\")"
   ]
  },
  {
   "cell_type": "markdown",
   "metadata": {},
   "source": [
    "# Sensed Days - Find when satellite data is available :dates\n"
   ]
  },
  {
   "cell_type": "code",
   "execution_count": 10,
   "metadata": {},
   "outputs": [
    {
     "name": "stdout",
     "output_type": "stream",
     "text": [
      "Status code:  200\n",
      "JSON data received.\n",
      "{'20240616': {'cropRedZones': [2, 5, 8, 9], 'irrigationRedZones': [2, 5, 8, 9], 'isCloudy': False}}\n"
     ]
    }
   ],
   "source": [
    "def get_sesnsed_days(UID, FieldID):\n",
    "    endpointUrl = \"https://us-central1-farmbase-b2f7e.cloudfunctions.net/getSensedDays\"\n",
    "    bodyObj = {\n",
    "        \"UID\": UID,\n",
    "        \"FieldID\": FieldID,\n",
    "    }\n",
    "\n",
    "    response = requests.post(endpointUrl, json=bodyObj)\n",
    "\n",
    "    print(\"Status code: \", response.status_code)\n",
    "\n",
    "    return response\n",
    "\n",
    "\n",
    "FieldID = \"1718698527459\"\n",
    "response = get_sesnsed_days(UID, FieldID)\n",
    "\n",
    "json_data = {}\n",
    "try:\n",
    "    json_data = response.json()\n",
    "\n",
    "    if len(json_data) > 0:\n",
    "        print(\"JSON data received.\")\n",
    "        print(json_data)  ##[\"FieldID\"\n",
    "        # Further processing of the JSON data can be done here\n",
    "    else:\n",
    "        print(\"No JSON data received.\")\n",
    "except ValueError:\n",
    "    print(\"Invalid JSON data received or no JSON data present.\")"
   ]
  },
  {
   "cell_type": "markdown",
   "metadata": {},
   "source": []
  },
  {
   "cell_type": "markdown",
   "metadata": {},
   "source": [
    "# Get Sat Image / Image URl\n"
   ]
  },
  {
   "cell_type": "code",
   "execution_count": 14,
   "metadata": {},
   "outputs": [
    {
     "name": "stdout",
     "output_type": "stream",
     "text": [
      "Status code:  200\n",
      "JSON data received.\n",
      "{'url': 'https://storage.googleapis.com/download/storage/v1/b/farmbase-b2f7e.appspot.com/o/PaidMonitoredFields%2FCFv7IjeJR8ZKFWSXb95qzgvymCv1%2F1718698527459%2F20240616%2Fndvi?generation=1718698583934775&alt=media'}\n"
     ]
    }
   ],
   "source": [
    "def get_sat_image(UID, fieldId, SensedDay, ImageType):\n",
    "\n",
    "    endpointUrl = \"https://us-central1-farmbase-b2f7e.cloudfunctions.net/getFieldImage\"\n",
    "    bodyObj = {\n",
    "        \"UID\": UID,\n",
    "        \"FieldID\": fieldId,\n",
    "        \"ImageType\": ImageType,\n",
    "        \"SensedDay\": SensedDay,\n",
    "        \"Colormap\": \"1\",\n",
    "    }\n",
    "\n",
    "    response = requests.post(endpointUrl, json=bodyObj)\n",
    "\n",
    "    print(\"Status code: \", response.status_code)\n",
    "\n",
    "    return response\n",
    "\n",
    "\n",
    "FieldID = \"1718698527459\"\n",
    "SensedDay = \"20240616\"\n",
    "ImageType = \"ndvi\"  # keep it lowercase\n",
    "response = get_sat_image(UID, FieldID, SensedDay, ImageType)\n",
    "\n",
    "json_data = {}\n",
    "try:\n",
    "    json_data = response.json()\n",
    "\n",
    "    if len(json_data) > 0:\n",
    "        print(\"JSON data received.\")\n",
    "        print(json_data)  ##[\"FieldID\"\n",
    "        # Further processing of the JSON data can be done here\n",
    "    else:\n",
    "        print(\"No JSON data received.\")\n",
    "except ValueError:\n",
    "    print(\"Invalid JSON data received or no JSON data present.\")"
   ]
  }
 ],
 "metadata": {
  "kernelspec": {
   "display_name": "Python 3",
   "language": "python",
   "name": "python3"
  },
  "language_info": {
   "codemirror_mode": {
    "name": "ipython",
    "version": 3
   },
   "file_extension": ".py",
   "mimetype": "text/x-python",
   "name": "python",
   "nbconvert_exporter": "python",
   "pygments_lexer": "ipython3",
   "version": "3.9.6"
  }
 },
 "nbformat": 4,
 "nbformat_minor": 2
}
