{
 "cells": [
  {
   "cell_type": "markdown",
   "metadata": {},
   "source": [
    "# Run on Google Colab\n",
    "\n",
    "https://colab.research.google.com/github/Kapil3003farmonaut/Api/blob/main/api_endpoints.ipynb\n",
    "\n",
    "#### Note\n",
    "\n",
    "If you are running the endpoints in Postman - they should work but sometimes have issue with postman webapp\n",
    "\n",
    "You need to add following Headers\n",
    "\n",
    "Application-Encoding : application/gzip\n",
    "\n",
    "Content-Type : application/json\n"
   ]
  },
  {
   "cell_type": "markdown",
   "metadata": {},
   "source": [
    "# Start\n"
   ]
  },
  {
   "cell_type": "code",
   "execution_count": null,
   "metadata": {},
   "outputs": [],
   "source": [
    "import requests\n",
    "import pandas as pd\n",
    "\n",
    "UID = \"APIKEY\"  # Use your correct API key for testing"
   ]
  },
  {
   "cell_type": "markdown",
   "metadata": {},
   "source": [
    "# Check Usage Details\n"
   ]
  },
  {
   "cell_type": "code",
   "execution_count": 15,
   "metadata": {},
   "outputs": [
    {
     "name": "stdout",
     "output_type": "stream",
     "text": [
      "Status code:  200\n",
      "JSON data received.\n",
      "{'OrderedUnits': 1000000, 'UsedUnits': 233, 'remainingUnits': 999767}\n"
     ]
    }
   ],
   "source": [
    "def get_my_usage(UID):\n",
    "\n",
    "    endpointUrl = \"https://us-central1-farmbase-b2f7e.cloudfunctions.net/getMyUsage\"\n",
    "    bodyObj = {\n",
    "        \"UID\": UID,\n",
    "    }\n",
    "\n",
    "    response = requests.post(endpointUrl, json=bodyObj)\n",
    "\n",
    "    print(\"Status code: \", response.status_code)\n",
    "\n",
    "    return response\n",
    "\n",
    "\n",
    "response = get_my_usage(UID)\n",
    "\n",
    "json_data = {}\n",
    "try:\n",
    "    json_data = response.json()\n",
    "    if len(json_data) > 0:\n",
    "        print(\"JSON data received.\")\n",
    "        print(json_data)\n",
    "        # Further processing of the JSON data can be done here\n",
    "    else:\n",
    "        print(\"No JSON data received.\")\n",
    "except ValueError:\n",
    "    print(\"Invalid JSON data received or no JSON data present.\")"
   ]
  },
  {
   "cell_type": "markdown",
   "metadata": {},
   "source": [
    "## Add/Submit field\n"
   ]
  },
  {
   "cell_type": "code",
   "execution_count": null,
   "metadata": {},
   "outputs": [],
   "source": [
    "def submit_field(UID, CropCode, FieldName, PaymentType, PointCoordinates):\n",
    "    endpointUrl = \"https://us-central1-farmbase-b2f7e.cloudfunctions.net/submitField\"\n",
    "    bodyObj = {\n",
    "        \"UID\": UID,\n",
    "        \"CropCode\": CropCode,\n",
    "        \"FieldName\": FieldName,\n",
    "        \"PaymentType\": PaymentType,\n",
    "        \"Points\": PointCoordinates,\n",
    "    }\n",
    "\n",
    "    response = requests.post(endpointUrl, json=bodyObj)\n",
    "\n",
    "    print(\"Status code: \", response.status_code)\n",
    "\n",
    "    return response\n",
    "\n",
    "\n",
    "CropCode = \"1r\"\n",
    "FieldName = \"My Test Field 24\"\n",
    "PaymentType = 1\n",
    "PointCoordinates = [\n",
    "    [78.47214764936771, 17.410292565471753],\n",
    "    [78.47341901644077, 17.41025161622103],\n",
    "    [78.47430414541569, 17.409652732380625],\n",
    "    [78.47315615995731, 17.409586189610526],\n",
    "]\n",
    "\n",
    "response = submit_field(UID, CropCode, FieldName, PaymentType, PointCoordinates)\n",
    "\n",
    "json_data = {}\n",
    "try:\n",
    "    json_data = response.json()\n",
    "    if len(json_data) > 0:\n",
    "\n",
    "        print(\"JSON data received.\")\n",
    "\n",
    "        print(\"Field ID - \", json_data[\"FieldID\"])\n",
    "        print(json_data)  ##[\"FieldID\"\n",
    "        # Further processing of the JSON data can be done here\n",
    "    else:\n",
    "        print(\"No JSON data received.\")\n",
    "except ValueError:\n",
    "    print(\"Invalid JSON data received or no JSON data present.\")"
   ]
  },
  {
   "cell_type": "markdown",
   "metadata": {},
   "source": [
    "# Get all field IDs\n"
   ]
  },
  {
   "cell_type": "code",
   "execution_count": null,
   "metadata": {},
   "outputs": [],
   "source": [
    "def get_all_feildids_(UID):\n",
    "    endpointUrl = \"https://us-central1-farmbase-b2f7e.cloudfunctions.net/getAllFieldIDs\"\n",
    "    bodyObj = {\n",
    "        \"UID\": UID,\n",
    "    }\n",
    "\n",
    "    response = requests.post(endpointUrl, json=bodyObj)\n",
    "\n",
    "    print(\"Status code: \", response.status_code)\n",
    "\n",
    "    return response"
   ]
  },
  {
   "cell_type": "markdown",
   "metadata": {},
   "source": [
    "# Get All Fields/Farmers Data\n"
   ]
  },
  {
   "cell_type": "code",
   "execution_count": null,
   "metadata": {},
   "outputs": [],
   "source": [
    "def get_all_feilds_data(UID):\n",
    "    endpointUrl = (\n",
    "        \"https://us-central1-farmbase-b2f7e.cloudfunctions.net/getAllFarmersData\"\n",
    "    )\n",
    "    bodyObj = {\n",
    "        \"UID\": UID,\n",
    "    }\n",
    "\n",
    "    response = requests.post(endpointUrl, json=bodyObj)\n",
    "\n",
    "    print(\"Status code: \", response.status_code)\n",
    "\n",
    "    return response\n",
    "\n",
    "\n",
    "all_fields_data = get_all_feilds_data(UID)\n",
    "\n",
    "json_data = {}\n",
    "df_field_data = pd.DataFrame()\n",
    "\n",
    "try:\n",
    "    json_data = all_fields_data.json()\n",
    "\n",
    "    if len(json_data) > 0:\n",
    "\n",
    "        print(\"JSON data received.\")\n",
    "        # Further processing of the JSON data can be done here\n",
    "    else:\n",
    "        print(\"No JSON data received.\")\n",
    "except ValueError:\n",
    "    print(\"Invalid JSON data received or no JSON data present.\")\n",
    "\n",
    "if len(json_data) > 0:\n",
    "    data_all_Field = []\n",
    "    for fieldId, fieldDetails in all_fields_data.json().items():\n",
    "        # print(fieldId)\n",
    "        lat_lon_pairs = []\n",
    "\n",
    "        # Define custom sorting order\n",
    "        def custom_sort(key):\n",
    "            if key == \"a\":\n",
    "                return 0\n",
    "            elif key.startswith(\"P_\"):\n",
    "                return int(key[2:])\n",
    "            else:\n",
    "                return float(\"inf\")  # Place any other keys at the end\n",
    "\n",
    "        # Sort the keys of the Coordinates dictionary using the custom sorting function\n",
    "        sorted_coordinates = sorted(fieldDetails[\"Coordinates\"].keys(), key=custom_sort)\n",
    "\n",
    "        # Iterate over the sorted keys\n",
    "        for point in sorted_coordinates:\n",
    "            coordinates = fieldDetails[\"Coordinates\"][point]\n",
    "            latitude = float(coordinates[\"Latitude\"])\n",
    "            longitude = float(coordinates[\"Longitude\"])\n",
    "            lat_lon_pairs.append([latitude, longitude])\n",
    "\n",
    "        # for point, coordinates in fieldDetails[\"Coordinates\"].items():\n",
    "        #     latitude = float(coordinates[\"Latitude\"])\n",
    "        #     longitude = float(coordinates[\"Longitude\"])\n",
    "        #     lat_lon_pairs.append([latitude, longitude])\n",
    "\n",
    "        data_all_Field.append(\n",
    "            {\n",
    "                \"FieldID\": fieldId,\n",
    "                # \"FieldAddress\": fieldDetails[\"FieldAddress\"],\n",
    "                \"FieldArea\": fieldDetails[\"FieldArea\"],\n",
    "                \"hUnits\": fieldDetails[\"hUnits\"],\n",
    "                \"FieldMaxLat\": fieldDetails[\"FieldMaxLat\"],\n",
    "                \"FieldMaxLong\": fieldDetails[\"FieldMaxLong\"],\n",
    "                \"FieldMinLat\": fieldDetails[\"FieldMinLat\"],\n",
    "                \"FieldMinLong\": fieldDetails[\"FieldMinLong\"],\n",
    "                \"coodfinates\": lat_lon_pairs,\n",
    "            }\n",
    "        )\n",
    "\n",
    "    df_field_data = pd.DataFrame(data_all_Field)\n",
    "\n",
    "df_field_data"
   ]
  },
  {
   "cell_type": "markdown",
   "metadata": {},
   "source": [
    "# Delete Field\n"
   ]
  },
  {
   "cell_type": "code",
   "execution_count": null,
   "metadata": {},
   "outputs": [],
   "source": [
    "from json.decoder import JSONDecodeError\n",
    "\n",
    "\n",
    "def delete_field(UID, FieldID):\n",
    "    endpointUrl = \"https://us-central1-farmbase-b2f7e.cloudfunctions.net/deleteField\"\n",
    "    bodyObj = {\"UID\": UID, \"FieldID\": FieldID}\n",
    "\n",
    "    response = requests.post(endpointUrl, json=bodyObj)\n",
    "\n",
    "    print(\"Status code: \", response.status_code)\n",
    "\n",
    "    return response\n",
    "\n",
    "    # try:\n",
    "    #     json_data = response.json()\n",
    "    #     print(json_data)\n",
    "    # except (AttributeError, JSONDecodeError) as e:\n",
    "    #     print(\"Error occurred:\", e)\n",
    "\n",
    "\n",
    "FieldID = \"1718697978627\"\n",
    "response = delete_field(UID, FieldID)"
   ]
  },
  {
   "cell_type": "markdown",
   "metadata": {},
   "source": [
    "# Get Single Fields Data\n"
   ]
  },
  {
   "cell_type": "code",
   "execution_count": null,
   "metadata": {},
   "outputs": [],
   "source": [
    "def get_single_field_data(UID, FieldID):\n",
    "    endpointUrl = \"https://us-central1-farmbase-b2f7e.cloudfunctions.net/getFarmerData\"\n",
    "    bodyObj = {\"UID\": UID, \"FieldID\": FieldID}\n",
    "\n",
    "    response = requests.post(endpointUrl, json=bodyObj)\n",
    "\n",
    "    print(\"Status code: \", response.status_code)\n",
    "\n",
    "    return response\n",
    "\n",
    "\n",
    "FieldID = \"1718698527459\"\n",
    "response = get_single_field_data(UID, FieldID)\n",
    "\n",
    "json_data = {}\n",
    "try:\n",
    "    json_data = response.json()\n",
    "    if len(json_data) > 0:\n",
    "\n",
    "        print(\"JSON data received.\")\n",
    "        print(json_data)  ##[\"FieldID\"\n",
    "        # Further processing of the JSON data can be done here\n",
    "    else:\n",
    "        print(\"No JSON data received.\")\n",
    "except ValueError:\n",
    "    print(\"Invalid JSON data received or no JSON data present.\")"
   ]
  },
  {
   "cell_type": "markdown",
   "metadata": {},
   "source": [
    "# Sensed Days - Find when satellite data is available :dates\n"
   ]
  },
  {
   "cell_type": "code",
   "execution_count": null,
   "metadata": {},
   "outputs": [],
   "source": [
    "def get_sesnsed_days(UID, FieldID):\n",
    "    endpointUrl = \"https://us-central1-farmbase-b2f7e.cloudfunctions.net/getSensedDays\"\n",
    "    bodyObj = {\n",
    "        \"UID\": UID,\n",
    "        \"FieldID\": FieldID,\n",
    "    }\n",
    "\n",
    "    response = requests.post(endpointUrl, json=bodyObj)\n",
    "\n",
    "    print(\"Status code: \", response.status_code)\n",
    "\n",
    "    return response\n",
    "\n",
    "\n",
    "FieldID = \"1718698527459\"\n",
    "response = get_sesnsed_days(UID, FieldID)\n",
    "\n",
    "json_data = {}\n",
    "try:\n",
    "    json_data = response.json()\n",
    "\n",
    "    if len(json_data) > 0:\n",
    "        print(\"JSON data received.\")\n",
    "        print(json_data)  ##[\"FieldID\"\n",
    "        # Further processing of the JSON data can be done here\n",
    "    else:\n",
    "        print(\"No JSON data received.\")\n",
    "except ValueError:\n",
    "    print(\"Invalid JSON data received or no JSON data present.\")"
   ]
  },
  {
   "cell_type": "markdown",
   "metadata": {},
   "source": []
  },
  {
   "cell_type": "markdown",
   "metadata": {},
   "source": [
    "# Get Sat Image / Image URl\n"
   ]
  },
  {
   "cell_type": "code",
   "execution_count": null,
   "metadata": {},
   "outputs": [],
   "source": [
    "def get_sat_image(UID, fieldId, SensedDay, ImageType):\n",
    "\n",
    "    endpointUrl = \"https://us-central1-farmbase-b2f7e.cloudfunctions.net/getFieldImage\"\n",
    "    bodyObj = {\n",
    "        \"UID\": UID,\n",
    "        \"FieldID\": fieldId,\n",
    "        \"ImageType\": ImageType,\n",
    "        \"SensedDay\": SensedDay,\n",
    "        \"Colormap\": \"1\",\n",
    "    }\n",
    "\n",
    "    response = requests.post(endpointUrl, json=bodyObj)\n",
    "\n",
    "    print(\"Status code: \", response.status_code)\n",
    "\n",
    "    return response\n",
    "\n",
    "\n",
    "FieldID = \"1718698527459\"\n",
    "SensedDay = \"20240616\"\n",
    "ImageType = \"ndvi\"  # keep it lowercase\n",
    "response = get_sat_image(UID, FieldID, SensedDay, ImageType)\n",
    "\n",
    "json_data = {}\n",
    "try:\n",
    "    json_data = response.json()\n",
    "\n",
    "    if len(json_data) > 0:\n",
    "        print(\"JSON data received.\")\n",
    "        print(json_data)  ##[\"FieldID\"\n",
    "        # Further processing of the JSON data can be done here\n",
    "    else:\n",
    "        print(\"No JSON data received.\")\n",
    "except ValueError:\n",
    "    print(\"Invalid JSON data received or no JSON data present.\")"
   ]
  },
  {
   "cell_type": "markdown",
   "metadata": {},
   "source": [
    "## Get Field Area by boundary points\n"
   ]
  },
  {
   "cell_type": "code",
   "execution_count": null,
   "metadata": {},
   "outputs": [],
   "source": [
    "def get_area_by_boundary_points(UID, coordinates):\n",
    "    endpointUrl = \"https://us-central1-farmbase-b2f7e.cloudfunctions.net/getFieldAreaByBoundaryPoints\"\n",
    "    bodyObj = {\"UID\": UID, \"Points\": coordinates}\n",
    "\n",
    "    response = requests.post(endpointUrl, json=bodyObj)\n",
    "\n",
    "    print(\"Status code: \", response.status_code)\n",
    "\n",
    "    return response"
   ]
  }
 ],
 "metadata": {
  "kernelspec": {
   "display_name": "Python 3",
   "language": "python",
   "name": "python3"
  },
  "language_info": {
   "codemirror_mode": {
    "name": "ipython",
    "version": 3
   },
   "file_extension": ".py",
   "mimetype": "text/x-python",
   "name": "python",
   "nbconvert_exporter": "python",
   "pygments_lexer": "ipython3",
   "version": "3.9.6"
  }
 },
 "nbformat": 4,
 "nbformat_minor": 2
}
